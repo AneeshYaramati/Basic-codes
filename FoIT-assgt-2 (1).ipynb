{
 "cells": [
  {
   "cell_type": "code",
   "execution_count": 20,
   "metadata": {},
   "outputs": [
    {
     "name": "stdout",
     "output_type": "stream",
     "text": [
      "Enter 1st dice value: 3\n",
      "Enter 2nd dice value: 2\n",
      "The sum is 5\n",
      "Player point is 5\n",
      "Player is taking a second chance\n",
      "Enter value of 1st dice in 2nd chance: 6\n",
      "Enter value of 2nd dice in 2nd chance: 1\n",
      "Player point is 7\n",
      "Player lost the game!\n"
     ]
    }
   ],
   "source": [
    "#1st Question\n",
    "def winOrLose(dice1,dice2):\n",
    "    point=sum([dice1,dice2])\n",
    "    print(\"The sum is {}\".format(point))\n",
    "    if (point==7 or point==11):\n",
    "        return True\n",
    "    elif (point==2 or point==3 or point==12):\n",
    "        return False\n",
    "    else:\n",
    "        print(\"Player point is {}\".format(point))\n",
    "        print(\"Player is taking a second chance\")\n",
    "        dice3 = int(input(\"Enter value of 1st dice in 2nd chance: \"))\n",
    "        dice4= int(input(\"Enter value of 2nd dice in 2nd chance: \"))\n",
    "        point2= sum([dice3,dice4])\n",
    "        print(\"Player point is {}\".format(point2))\n",
    "        if sum([dice3,dice4])==point:\n",
    "            return True\n",
    "        else:\n",
    "            return False\n",
    "\n",
    "dice1= int(input(\"Enter 1st dice value: \"))\n",
    "dice2= int(input(\"Enter 2nd dice value: \"))\n",
    "while (dice1 not in range(1,7)):\n",
    "    print(\"dice1 value Invalied Input\")\n",
    "    dice1= int(input(\"Enter 1st dice value: \"))\n",
    "\n",
    "while (dice2 not in range(1,7)):\n",
    "    print(\"Dice2 value Invalied Input\")\n",
    "    dice2= int(input(\"Enter 2nd dice value: \"))\n",
    "    \n",
    "if winOrLose(dice1,dice2):\n",
    "    print(\"Player won the game!\")\n",
    "else:\n",
    "    print(\"Player lost the game!\")\n",
    "    "
   ]
  },
  {
   "cell_type": "code",
   "execution_count": 21,
   "metadata": {},
   "outputs": [
    {
     "name": "stdout",
     "output_type": "stream",
     "text": [
      "Enter the highest temperatures for each day in january in either Fahrenheit or Celsius \n",
      "Enter the highest temperature of January-1: 23.5\n",
      "Enter the highest temperature of January-2: 24.2\n",
      "Enter the highest temperature of January-3: 20.8\n",
      "Enter the highest temperature of January-4: 23.7\n",
      "Enter the highest temperature of January-5: 23.9\n",
      "Enter the highest temperature of January-6: 23.3\n",
      "Enter the highest temperature of January-7: 21.8\n",
      "Enter the highest temperature of January-8: 21\n",
      "Enter the highest temperature of January-9: 24.6\n",
      "Enter the highest temperature of January-10: 24.\n",
      "Enter the highest temperature of January-11: 23.1\n",
      "Enter the highest temperature of January-12: 26.3\n",
      "Enter the highest temperature of January-13: 25.8\n",
      "Enter the highest temperature of January-14: 26.1\n",
      "Enter the highest temperature of January-15: 26.4\n",
      "Enter the highest temperature of January-16: 23.8\n",
      "Enter the highest temperature of January-17: 25.4\n",
      "Enter the highest temperature of January-18: 26.3\n",
      "Enter the highest temperature of January-19: 27.2\n",
      "Enter the highest temperature of January-20: 27.5\n",
      "Enter the highest temperature of January-21: 28\n",
      "Enter the highest temperature of January-22: 28.3\n",
      "Enter the highest temperature of January-23: 25.3\n",
      "Enter the highest temperature of January-24: 26.3\n",
      "Enter the highest temperature of January-25: 24.1\n",
      "Enter the highest temperature of January-26: 26.8\n",
      "Enter the highest temperature of January-27: 27\n",
      "Enter the highest temperature of January-28: 27\n",
      "Enter the highest temperature of January-29: 23.6\n",
      "Enter the highest temperature of January-30: 28.9\n",
      "Enter the highest temperature of January-31: 23.5\n",
      "25.081 is the average high temperature of month\n",
      "28.9 is the highest temperature of the month and is recorded on January-[29]\n"
     ]
    }
   ],
   "source": [
    "#2nd Question\n",
    "\n",
    "def averageHighTemp(highest_temp):\n",
    "    return (sum(highest_temp)/len(highest_temp))\n",
    "\n",
    "def highOfMonth(highest_temp):\n",
    "    return max(highest_temp)\n",
    "\n",
    "highest_temp=[]\n",
    "print(\"Enter the highest temperatures for each day in january in either Fahrenheit or Celsius \")\n",
    "for i in range(31):\n",
    "    highest_temp.append(float(input((\"Enter the highest temperature of January-{}: \".format(i+1)))))\n",
    "avg_high= averageHighTemp(highest_temp) \n",
    "print(\"{:.3f} is the average high temperature of month\".format(avg_high))\n",
    "highest_of_jan= highOfMonth(highest_temp)    \n",
    "index= [i for i, n in enumerate(highest_temp) if n == highest_of_jan]\n",
    "print(\"{} is the highest temperature of the month and is recorded on January-{}\".format(highest_of_jan,index))\n"
   ]
  },
  {
   "cell_type": "code",
   "execution_count": 22,
   "metadata": {},
   "outputs": [
    {
     "name": "stdout",
     "output_type": "stream",
     "text": [
      "Enter the size of list in the multiples of 3: 8\n",
      "size of list not in the multiples of 3:\n",
      "Enter the size of list: 9\n",
      "Enter elements in the list:\n",
      "1\n",
      "2\n",
      "3\n",
      "4\n",
      "5\n",
      "6\n",
      "7\n",
      "8\n",
      "9\n",
      "Output:\n",
      "3\n",
      "2\n",
      "1\n",
      "6\n",
      "5\n",
      "4\n",
      "9\n",
      "8\n",
      "7\n"
     ]
    }
   ],
   "source": [
    "#3rd qn\n",
    "size = int(input((\"Enter the size of list in the multiples of 3: \")))\n",
    "while (size%3 !=0):\n",
    "    print(\"size of list not in the multiples of 3:\")\n",
    "    size= int(input((\"Enter the size of list: \")))\n",
    "li=[]\n",
    "print(\"Enter elements in the list:\")\n",
    "for i in range(size):\n",
    "    li.append(int(input()))\n",
    "li2=[]\n",
    "for i in range(0, len(li), 3):\n",
    "    li2.append(li[i:i + 3]) \n",
    "li3=[]\n",
    "for ele in li2:\n",
    "    li3.append((ele[::-1]))\n",
    "li4= sum(li3, [])\n",
    "print(\"Output:\")\n",
    "for i in li4:\n",
    "    print(i)"
   ]
  },
  {
   "cell_type": "code",
   "execution_count": 23,
   "metadata": {},
   "outputs": [
    {
     "name": "stdout",
     "output_type": "stream",
     "text": [
      " Please Enter any Number: 160717\n",
      " 173 is a Prime Factor of a Given Number 160717\n",
      " 929 is a Prime Factor of a Given Number 160717\n"
     ]
    }
   ],
   "source": [
    "#4th qn\n",
    "Number = int(input(\" Please Enter any Number: \"))\n",
    "\n",
    "for i in range(2, Number + 1):\n",
    "    if(Number % i == 0):\n",
    "        isprime = 1\n",
    "        for j in range(2, (i //2 + 1)):\n",
    "            if(i % j == 0):\n",
    "                isprime = 0\n",
    "                break\n",
    "            \n",
    "        if (isprime == 1):\n",
    "            print(\" %d is a Prime Factor of a Given Number %d\" %(i, Number))"
   ]
  },
  {
   "cell_type": "code",
   "execution_count": 28,
   "metadata": {},
   "outputs": [
    {
     "name": "stdout",
     "output_type": "stream",
     "text": [
      "Enter the length of list: 5\n",
      "Enter List elements:\n",
      "Enter element 1:1\n",
      "Enter element 2:2\n",
      "Enter element 3:3\n",
      "Enter element 4:4\n",
      "Enter element 5:5\n",
      "Enter Option: 2\n",
      "15\n"
     ]
    }
   ],
   "source": [
    "#5th Qn\n",
    "\n",
    "def swap(li):\n",
    "    for i in range(len(li)-2):\n",
    "        temp= li[i]\n",
    "        li[i]= li[i+2]\n",
    "        li[i+2]= temp\n",
    "    return li\n",
    "\n",
    "n= int(input(\"Enter the length of list: \"))\n",
    "li=[]\n",
    "print(\"Enter List elements:\")\n",
    "for i in range(n):\n",
    "    li.append(int(input(\"Enter element {}:\".format(i+1))))\n",
    "\n",
    "opt = int(input(\"Enter Option: \"))\n",
    "if opt==1:\n",
    "    print(max(li))\n",
    "elif opt==2:\n",
    "    print(sum(li))\n",
    "elif opt==3:\n",
    "    li2= swap(li)\n",
    "    for i in li2:\n",
    "        print(i)\n",
    "else:\n",
    "    print(\"Incorrect Option\")\n"
   ]
  },
  {
   "cell_type": "code",
   "execution_count": 31,
   "metadata": {},
   "outputs": [
    {
     "name": "stdout",
     "output_type": "stream",
     "text": [
      "Enter the list Elements:\n",
      "1\n",
      "23\n",
      "24\n",
      "pepsi\n",
      "poppins\n",
      "pot\n",
      "character\n",
      "24\n",
      "23\n",
      "a\n",
      "X\n",
      "Enter Option: 2\n",
      "1 23 24 pepsi poppins pot character 24 23 a "
     ]
    }
   ],
   "source": [
    "#6th Qn\n",
    "def duplicates(li):\n",
    "    dup=[]\n",
    "    for i in li:\n",
    "        if li.count(i)>1:\n",
    "                if i not in dup:\n",
    "                    dup.append(i)\n",
    "    li2= list(set(li))\n",
    "    for i in dup:\n",
    "        li2.remove(i)\n",
    "    return li2\n",
    "\n",
    "    \n",
    "\n",
    "print(\"Enter the list Elements:\")\n",
    "li=[]\n",
    "while(1):\n",
    "    ele= input()\n",
    "    if ele.isnumeric():\n",
    "        ele= int(ele)\n",
    "    elif ele.upper()== \"X\":\n",
    "        break\n",
    "    li.append(ele)\n",
    "opt = int(input(\"Enter Option: \"))\n",
    "if opt==1:\n",
    "    dup= duplicates(li)\n",
    "    print(dup)\n",
    "elif opt==2:\n",
    "    for i in li:\n",
    "        print(i, end=\" \")\n",
    "elif opt==3:\n",
    "    rev=[]\n",
    "    for ele in li:\n",
    "        if type(ele)==str and (ele[0]==\"p\" or ele[0]==\"P\") and len(ele)>4:\n",
    "            rev.append(ele[::-1])\n",
    "    print(rev)\n",
    "            "
   ]
  },
  {
   "cell_type": "code",
   "execution_count": null,
   "metadata": {},
   "outputs": [],
   "source": []
  },
  {
   "cell_type": "code",
   "execution_count": 14,
   "metadata": {},
   "outputs": [
    {
     "name": "stdout",
     "output_type": "stream",
     "text": [
      " Please Enter any Number: 160717\n",
      " 173 is a Prime Factor of a Given Number 160717\n",
      " 929 is a Prime Factor of a Given Number 160717\n"
     ]
    }
   ],
   "source": []
  },
  {
   "cell_type": "code",
   "execution_count": null,
   "metadata": {},
   "outputs": [],
   "source": []
  }
 ],
 "metadata": {
  "kernelspec": {
   "display_name": "Python 3",
   "language": "python",
   "name": "python3"
  },
  "language_info": {
   "codemirror_mode": {
    "name": "ipython",
    "version": 3
   },
   "file_extension": ".py",
   "mimetype": "text/x-python",
   "name": "python",
   "nbconvert_exporter": "python",
   "pygments_lexer": "ipython3",
   "version": "3.7.4"
  }
 },
 "nbformat": 4,
 "nbformat_minor": 2
}
