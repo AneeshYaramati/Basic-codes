{
 "cells": [
  {
   "cell_type": "code",
   "execution_count": 6,
   "metadata": {},
   "outputs": [
    {
     "name": "stdout",
     "output_type": "stream",
     "text": [
      "Enter the value of distance in feet: 7\n",
      "Enter the value of distance in feet: 4\n",
      "D1 is greater\n"
     ]
    }
   ],
   "source": [
    "class distance:\n",
    "    def __init__(self):\n",
    "        self.feet = float(input(\"Enter the value of distance in feet: \"))\n",
    "    def __gt__(self,other):\n",
    "        \n",
    "        if self.feet > other.feet:\n",
    "            return True\n",
    "        else:\n",
    "            return False\n",
    "\n",
    "d1= distance()\n",
    "d2= distance()\n",
    "\n",
    "if d1>d2:\n",
    "    print(\"D1 is greater\")\n",
    "else:\n",
    "    print(\"D2 is greater\")\n"
   ]
  },
  {
   "cell_type": "code",
   "execution_count": 7,
   "metadata": {},
   "outputs": [
    {
     "name": "stdout",
     "output_type": "stream",
     "text": [
      "Enter the complex number: 1+2j\n",
      "Enter the complex number: 6+9j\n",
      "Final complex number after addition is: (7+11j)\n",
      "Final Complex Number after Subtraction is: (-5-7j)\n"
     ]
    }
   ],
   "source": [
    "class ComplexOp:\n",
    "    def __init__(self):\n",
    "        self.num = complex(input(\"Enter the complex number: \"))\n",
    "        \n",
    "    def __add__(self,other):\n",
    "        return self.num + other.num\n",
    "    \n",
    "    def __sub__(self,other):\n",
    "        return self.num - other.num\n",
    "\n",
    "c1= ComplexOp()\n",
    "c2= ComplexOp()\n",
    "\n",
    "print(\"Final complex number after addition is: {}\".format(c1+c2))\n",
    "print(\"Final Complex Number after Subtraction is: {}\".format(c1-c2))"
   ]
  },
  {
   "cell_type": "code",
   "execution_count": 22,
   "metadata": {},
   "outputs": [
    {
     "name": "stdout",
     "output_type": "stream",
     "text": [
      "Enter time in HH:MM:SS format: 3:44:12\n",
      "Enter time in HH:MM:SS format: 2:12:13\n",
      "05:56:25\n"
     ]
    }
   ],
   "source": [
    "class times:\n",
    "    def __init__(self):\n",
    "        self.time = input(\"Enter time in HH:MM:SS format: \")\n",
    "        \n",
    "    \n",
    "    def splitTime(self):\n",
    "        self.hr, self.mn, self.sc = map(int, self.time.split(\":\"))\n",
    "    \n",
    "    def displayTime(self):\n",
    "        print(\"Entered Time in HH:MM:SS format: \" + self.time)\n",
    "    \n",
    "    def __add__(self,other):\n",
    "        \n",
    "        total = 3600*(self.hr+ other.hr) + 60*(self.mn + other.mn) + (self.sc + other.sc)\n",
    "        return str(\"%02d:%02d:%02d\" % (total / 3600, total / 60 % 60, total % 60))\n",
    "        \n",
    "t1= times()\n",
    "t2= times()\n",
    "t1.splitTime()\n",
    "t2.splitTime()\n",
    "print (t1+t2)\n",
    "        "
   ]
  },
  {
   "cell_type": "code",
   "execution_count": 17,
   "metadata": {},
   "outputs": [],
   "source": [
    "class Monthlyexpense:\n",
    "    def __init__(self):\n",
    "        self.house = float(input(\"Enter the Monthly Household Expense:\"))\n",
    "        self.emi =  float(input(\"Enter the Monthly EMI Expense:\"))\n",
    "        self.education = float(input(\"Enter the Monthly Education Expense:\"))\n",
    "    \n",
    "    def total(self,other):\n",
    "        self.totalExp = sum([self.house,self.emi,self.education])\n",
    "        other.totalExp = sum([other.house,other.emi,other.education])\n",
    "    \n",
    "    def __gt__(self,other):\n",
    "        self.total(other)\n",
    "        if self.totalExp > other.totalExp:\n",
    "            return True\n",
    "        else:\n",
    "            return False\n",
    "    \n",
    "    def __lt__(self,other):\n",
    "        self.total(other)\n",
    "        if self.totalExp < other.totalExp:\n",
    "            return True\n",
    "        else:\n",
    "            return False\n",
    "    \n",
    "    def __eq__(self,other):\n",
    "        self.total(other)\n",
    "        if self.totalExp == other.totalExp:\n",
    "            return True\n",
    "        else:\n",
    "            return False\n",
    "    \n",
    "    def __add__(self,other):\n",
    "        self.total(other)\n",
    "        return self.totalExp + other.totalExp\n",
    "        \n",
    "        \n",
    "        "
   ]
  },
  {
   "cell_type": "code",
   "execution_count": 20,
   "metadata": {},
   "outputs": [
    {
     "name": "stdout",
     "output_type": "stream",
     "text": [
      "Details for May Month:\n",
      "Enter the Monthly Household Expense:2000\n",
      "Enter the Monthly EMI Expense:3200\n",
      "Enter the Monthly Education Expense:500\n",
      "Details for June Month:\n",
      "Enter the Monthly Household Expense:1800\n",
      "Enter the Monthly EMI Expense:3200\n",
      "Enter the Monthly Education Expense:1000\n",
      "1\n",
      "False\n"
     ]
    }
   ],
   "source": [
    "print(\"Details for May Month:\")\n",
    "May=Monthlyexpense()\n",
    "print(\"Details for June Month:\")\n",
    "June=Monthlyexpense()\n",
    "choice=int(input())\n",
    "if (choice==1):\n",
    "    print(May>June)\n",
    "    \n",
    "elif (choice==2):\n",
    "    print(May<June)\n",
    "elif (choice==3):\n",
    "    print(May==June)\n",
    "elif (choice==4):\n",
    "    print(May+June)\n",
    "else:\n",
    "    print(\"Wrong Choice\")"
   ]
  },
  {
   "cell_type": "code",
   "execution_count": null,
   "metadata": {},
   "outputs": [],
   "source": []
  }
 ],
 "metadata": {
  "kernelspec": {
   "display_name": "Python 3",
   "language": "python",
   "name": "python3"
  },
  "language_info": {
   "codemirror_mode": {
    "name": "ipython",
    "version": 3
   },
   "file_extension": ".py",
   "mimetype": "text/x-python",
   "name": "python",
   "nbconvert_exporter": "python",
   "pygments_lexer": "ipython3",
   "version": "3.7.4"
  }
 },
 "nbformat": 4,
 "nbformat_minor": 2
}
