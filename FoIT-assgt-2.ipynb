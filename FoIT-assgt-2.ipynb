{
 "cells": [
  {
   "cell_type": "code",
   "execution_count": 29,
   "metadata": {},
   "outputs": [
    {
     "name": "stdout",
     "output_type": "stream",
     "text": [
      "Enter 1st dice value: 8\n",
      "Enter 2nd dice value: 9\n",
      "dice1 value Invalied Input\n",
      "Enter 1st dice value: 4\n",
      "Dice2 value Invalied Input\n",
      "Enter 2nd dice value: 4\n",
      "The sum is 8\n",
      "Player point is 8\n",
      "Player is taking a second chance\n",
      "Enter value of 1st dice in 2nd chance: 5\n",
      "Enter value of 2nd dice in 2nd chance: 2\n",
      "Player point is 7\n",
      "Player lost the game!\n"
     ]
    }
   ],
   "source": [
    "#1st Question\n",
    "def winOrLose(dice1,dice2):\n",
    "    point=sum([dice1,dice2])\n",
    "    print(\"The sum is {}\".format(point))\n",
    "    if (point==7 or point==11):\n",
    "        return True\n",
    "    elif (point==2 or point==3 or point==12):\n",
    "        return False\n",
    "    else:\n",
    "        print(\"Player point is {}\".format(point))\n",
    "        print(\"Player is taking a second chance\")\n",
    "        dice3 = int(input(\"Enter value of 1st dice in 2nd chance: \"))\n",
    "        dice4= int(input(\"Enter value of 2nd dice in 2nd chance: \"))\n",
    "        point2= sum([dice3,dice4])\n",
    "        print(\"Player point is {}\".format(point2))\n",
    "        if sum([dice3,dice4])==point:\n",
    "            return True\n",
    "        else:\n",
    "            return False\n",
    "\n",
    "dice1= int(input(\"Enter 1st dice value: \"))\n",
    "dice2= int(input(\"Enter 2nd dice value: \"))\n",
    "while (dice1 not in range(1,7)):\n",
    "    print(\"dice1 value Invalied Input\")\n",
    "    dice1= int(input(\"Enter 1st dice value: \"))\n",
    "\n",
    "while (dice2 not in range(1,7)):\n",
    "    print(\"Dice2 value Invalied Input\")\n",
    "    dice2= int(input(\"Enter 2nd dice value: \"))\n",
    "    \n",
    "    \n",
    "\n",
    "if winOrLose(dice1,dice2):\n",
    "    print(\"Player won the game!\")\n",
    "else:\n",
    "    print(\"Player lost the game!\")\n",
    "    "
   ]
  },
  {
   "cell_type": "code",
   "execution_count": 35,
   "metadata": {},
   "outputs": [
    {
     "name": "stdout",
     "output_type": "stream",
     "text": [
      "Enter the highest temperatures for each day in january in either Fahrenheit or Celsius \n",
      "Enter the highest temperature of January-1: 1\n",
      "Enter the highest temperature of January-2: 2\n",
      "Enter the highest temperature of January-3: 3\n",
      "Enter the highest temperature of January-4: 4\n",
      "Enter the highest temperature of January-5: 5\n",
      "Enter the highest temperature of January-6: 6\n",
      "Enter the highest temperature of January-7: 7\n",
      "Enter the highest temperature of January-8: 8\n",
      "Enter the highest temperature of January-9: 9\n",
      "Enter the highest temperature of January-10: 10\n",
      "Enter the highest temperature of January-11: 11\n",
      "Enter the highest temperature of January-12: 12\n",
      "Enter the highest temperature of January-13: 13\n",
      "Enter the highest temperature of January-14: 14\n",
      "Enter the highest temperature of January-15: 15\n",
      "Enter the highest temperature of January-16: 16\n",
      "Enter the highest temperature of January-17: 17\n",
      "Enter the highest temperature of January-18: 18\n",
      "Enter the highest temperature of January-19: 19\n",
      "Enter the highest temperature of January-20: 20\n",
      "Enter the highest temperature of January-21: 21\n",
      "Enter the highest temperature of January-22: 22\n",
      "Enter the highest temperature of January-23: 23\n",
      "Enter the highest temperature of January-24: 24\n",
      "Enter the highest temperature of January-25: 25\n",
      "Enter the highest temperature of January-26: 26\n",
      "Enter the highest temperature of January-27: 138\n",
      "Enter the highest temperature of January-28: 105\n",
      "Enter the highest temperature of January-29: 127\n",
      "Enter the highest temperature of January-30: 56\n",
      "Enter the highest temperature of January-31: 96\n",
      "28.161 is the average high temperature of month\n",
      "138.0 is the highest temperature of the month and is recorded on January-[26]\n"
     ]
    }
   ],
   "source": [
    "#2nd Question\n",
    "\n",
    "def averageHighTemp(highest_temp):\n",
    "    return (sum(highest_temp)/len(highest_temp))\n",
    "\n",
    "def highOfMonth(highest_temp):\n",
    "    return max(highest_temp)\n",
    "\n",
    "highest_temp=[]\n",
    "print(\"Enter the highest temperatures for each day in january in either Fahrenheit or Celsius \")\n",
    "for i in range(31):\n",
    "    highest_temp.append(float(input((\"Enter the highest temperature of January-{}: \".format(i+1)))))\n",
    "avg_high= averageHighTemp(highest_temp) \n",
    "print(\"{:.3f} is the average high temperature of month\".format(avg_high))\n",
    "highest_of_jan= highOfMonth(highest_temp)    \n",
    "index= [i for i, n in enumerate(highest_temp) if n == highest_of_jan]\n",
    "print(\"{} is the highest temperature of the month and is recorded on January-{}\".format(highest_of_jan,index))\n"
   ]
  },
  {
   "cell_type": "code",
   "execution_count": 84,
   "metadata": {},
   "outputs": [
    {
     "name": "stdout",
     "output_type": "stream",
     "text": [
      "Enter the size of list in the multiples of 3: 9\n",
      "Enter elements in the list:\n",
      "1\n",
      "2\n",
      "3\n",
      "4\n",
      "5\n",
      "6\n",
      "7\n",
      "8\n",
      "9\n",
      "[3, 2, 1, 6, 5, 4, 9, 8, 7]\n"
     ]
    }
   ],
   "source": [
    "#3rd qn\n",
    "size = int(input((\"Enter the size of list in the multiples of 3: \")))\n",
    "while (size%3 !=0):\n",
    "    print(\"size of list not in the multiples of 3:\")\n",
    "    size= int(input((\"Enter the size of list: \")))\n",
    "li=[]\n",
    "print(\"Enter elements in the list:\")\n",
    "for i in range(size):\n",
    "    li.append(int(input()))\n",
    "li2=[]\n",
    "for i in range(0, len(li), 3):\n",
    "    li2.append(li[i:i + 3]) \n",
    "li3=[]\n",
    "for ele in li2:\n",
    "    li3.append((ele[::-1]))\n",
    "print(sum(li3, []) )  "
   ]
  },
  {
   "cell_type": "code",
   "execution_count": 75,
   "metadata": {},
   "outputs": [],
   "source": []
  },
  {
   "cell_type": "code",
   "execution_count": 83,
   "metadata": {},
   "outputs": [
    {
     "name": "stdout",
     "output_type": "stream",
     "text": [
      "[3, 2, 1, 6, 5, 4, 9, 8, 7]\n"
     ]
    }
   ],
   "source": []
  },
  {
   "cell_type": "code",
   "execution_count": 77,
   "metadata": {},
   "outputs": [
    {
     "data": {
      "text/plain": [
       "[[1, 2, 3], [4, 5, 6], [7, 8, 9]]"
      ]
     },
     "execution_count": 77,
     "metadata": {},
     "output_type": "execute_result"
    }
   ],
   "source": [
    "li2"
   ]
  },
  {
   "cell_type": "code",
   "execution_count": 82,
   "metadata": {},
   "outputs": [
    {
     "data": {
      "text/plain": [
       "[[3, 2, 1], [6, 5, 4], [9, 8, 7]]"
      ]
     },
     "execution_count": 82,
     "metadata": {},
     "output_type": "execute_result"
    }
   ],
   "source": [
    "li3"
   ]
  },
  {
   "cell_type": "code",
   "execution_count": null,
   "metadata": {},
   "outputs": [],
   "source": []
  }
 ],
 "metadata": {
  "kernelspec": {
   "display_name": "Python 3",
   "language": "python",
   "name": "python3"
  },
  "language_info": {
   "codemirror_mode": {
    "name": "ipython",
    "version": 3
   },
   "file_extension": ".py",
   "mimetype": "text/x-python",
   "name": "python",
   "nbconvert_exporter": "python",
   "pygments_lexer": "ipython3",
   "version": "3.7.4"
  }
 },
 "nbformat": 4,
 "nbformat_minor": 2
}
