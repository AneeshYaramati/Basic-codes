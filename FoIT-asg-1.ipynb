{
 "cells": [
  {
   "cell_type": "code",
   "execution_count": 1,
   "metadata": {},
   "outputs": [
    {
     "name": "stdout",
     "output_type": "stream",
     "text": [
      "Enter the number:7\n",
      "7 is Odd\n"
     ]
    }
   ],
   "source": [
    "n= int(input(\"Enter the number:\"))\n",
    "if n%2==0:\n",
    "    print(\"{} is Even\".format(n))\n",
    "else:\n",
    "    print(\"{} is Odd\".format(n))"
   ]
  },
  {
   "cell_type": "code",
   "execution_count": 2,
   "metadata": {},
   "outputs": [
    {
     "name": "stdout",
     "output_type": "stream",
     "text": [
      "Enter the Alphabet:E\n",
      "E is Vowel\n"
     ]
    }
   ],
   "source": [
    "alpha = input(\"Enter the Alphabet:\")\n",
    "if alpha in \"AEIOUaeiou\":\n",
    "    print(alpha + \" is Vowel\")\n",
    "else:\n",
    "    print(alpha + \" is Consonant\")"
   ]
  },
  {
   "cell_type": "code",
   "execution_count": 2,
   "metadata": {},
   "outputs": [
    {
     "name": "stdout",
     "output_type": "stream",
     "text": [
      "Enter the number of elements in dictionary:3\n",
      "Enter keys:fruit\n",
      "Enter it's value:apple\n",
      "Enter keys:veggie\n",
      "Enter it's value:tomato\n",
      "Enter keys:nuts\n",
      "Enter it's value:almond\n",
      "Enter the key you want to search:veggie\n",
      "veggie is key in dictionary\n"
     ]
    }
   ],
   "source": [
    "dic = {}\n",
    "n=int(input(\"Enter the number of elements in dictionary:\"))\n",
    "for i in range(n):\n",
    "    k= input(\"Enter keys:\")\n",
    "    dic[k]= input(\"Enter it's value:\")\n",
    "search = input(\"Enter the key you want to search:\")\n",
    "if search in dic:\n",
    "    print(search+ \" is key in dictionary\")\n",
    "else:\n",
    "    print(search+\" is not the key in dictionary\")"
   ]
  },
  {
   "cell_type": "code",
   "execution_count": 4,
   "metadata": {},
   "outputs": [
    {
     "name": "stdout",
     "output_type": "stream",
     "text": [
      "Enter the total cost:500\n",
      "500.0 is the total cost after discount\n"
     ]
    }
   ],
   "source": [
    "total_cost = float(input(\"Enter the total cost:\"))\n",
    "if total_cost> 1000:\n",
    "    total_cost = total_cost - (0.1*total_cost)\n",
    "    print(\"10% discount is aplicable\")\n",
    "print(\"{} is the total cost after discount\".format(total_cost))"
   ]
  },
  {
   "cell_type": "code",
   "execution_count": 6,
   "metadata": {},
   "outputs": [
    {
     "name": "stdout",
     "output_type": "stream",
     "text": [
      "Enter student marks:35\n",
      "E is the grade\n"
     ]
    }
   ],
   "source": [
    "marks = float(input(\"Enter student marks:\"))\n",
    "if marks<25:\n",
    "    grade = \"F\"\n",
    "elif marks>=25 and marks<45:\n",
    "    grade= \"E\"\n",
    "elif marks>=45 and marks<50:\n",
    "    grade = \"D\"\n",
    "elif marks>=50 and marks<60:\n",
    "    grade = \"C\"\n",
    "elif marks>=60 and marks<80:\n",
    "    grade = \"B\"\n",
    "elif marks>=80:\n",
    "    grade = \"A\"\n",
    "print(grade+ \" is the grade\")"
   ]
  },
  {
   "cell_type": "code",
   "execution_count": 5,
   "metadata": {},
   "outputs": [
    {
     "name": "stdout",
     "output_type": "stream",
     "text": [
      "Enter the number of Classes held:100\n",
      "Enter the number of Classes attended:78\n",
      "Total classes held are 100\n",
      "Total classes attended: 78\n",
      "Percentage of classes attended are: 78.00%\n",
      "Student is allowed to sit in exam\n"
     ]
    }
   ],
   "source": [
    "held = int(input(\"Enter the number of Classes held:\"))\n",
    "attend = int(input(\"Enter the number of Classes attended:\"))\n",
    "print(\"Total classes held are {}\".format(held))\n",
    "print(\"Total classes attended: {}\".format(attend))\n",
    "percent = (attend/held)*100\n",
    "print (\"Percentage of classes attended are: {:.2f}%\".format(percent))\n",
    "if percent< 75:\n",
    "    print(\"Student is not allowed to sit in exam\")\n",
    "else:\n",
    "    print(\"Student is allowed to sit in exam\")"
   ]
  },
  {
   "cell_type": "code",
   "execution_count": 6,
   "metadata": {},
   "outputs": [
    {
     "name": "stdout",
     "output_type": "stream",
     "text": [
      "0\n",
      "1\n",
      "2\n",
      "4\n",
      "5\n"
     ]
    }
   ],
   "source": [
    "for i in range(7):\n",
    "    if i==3 or i==6:\n",
    "        pass\n",
    "    else:\n",
    "        print(i)"
   ]
  },
  {
   "cell_type": "code",
   "execution_count": 7,
   "metadata": {},
   "outputs": [
    {
     "name": "stdout",
     "output_type": "stream",
     "text": [
      "Enter the length of list:6\n",
      "Enter the element 1: 2\n",
      "Enter the element 2: 3\n",
      "Enter the element 3: 4\n",
      "Enter the element 4: 5\n",
      "Enter the element 5: 6\n",
      "Enter the element 6: 8\n",
      "[2, 3, 4, 5, 6, 8]\n",
      "Number of even elements are: 4\n",
      "Number of Odd elements are : 2\n"
     ]
    }
   ],
   "source": [
    "li=[]\n",
    "n= int(input(\"Enter the length of list:\"))\n",
    "c=0\n",
    "for i in range(n):\n",
    "    z=int(input(\"Enter the element {}: \".format(i+1)))\n",
    "    li.append(z)\n",
    "    if z%2==0:\n",
    "        c+=1\n",
    "print(li)\n",
    "print(\"Number of even elements are: {}\".format(c))\n",
    "print(\"Number of Odd elements are : {}\".format(n-c))\n",
    "\n"
   ]
  },
  {
   "cell_type": "code",
   "execution_count": 9,
   "metadata": {},
   "outputs": [
    {
     "name": "stdout",
     "output_type": "stream",
     "text": [
      "Enter the length of list:5\n",
      "Enter the element 1: 1\n",
      "Enter the element 2: 2\n",
      "Enter the element 3: 3\n",
      "Enter the element 4: 4\n",
      "Enter the element 5: 5\n",
      "List elements in Reverse Order\n",
      "5\n",
      "4\n",
      "3\n",
      "2\n",
      "1\n"
     ]
    }
   ],
   "source": [
    "li=[]\n",
    "n= int(input(\"Enter the length of list:\"))\n",
    "c=0\n",
    "for i in range(n):\n",
    "    z=int(input(\"Enter the element {}: \".format(i+1)))\n",
    "    li.append(z)\n",
    "print(\"List elements in Reverse Order\")\n",
    "for i in range(n-1,-1,-1):\n",
    "    print(li[i])"
   ]
  },
  {
   "cell_type": "code",
   "execution_count": 10,
   "metadata": {},
   "outputs": [
    {
     "name": "stdout",
     "output_type": "stream",
     "text": [
      "Enter the length of list:5\n",
      "Enter the element 1: 2\n",
      "Enter the element 2: 3\n",
      "Enter the element 3: 4\n",
      "Enter the element 4: 5\n",
      "Enter the element 5: 6\n",
      "6\n",
      "5\n",
      "4\n",
      "3\n",
      "2\n"
     ]
    }
   ],
   "source": [
    "li=[]\n",
    "n= int(input(\"Enter the length of list:\"))\n",
    "for i in range(n):\n",
    "    z=int(input(\"Enter the element {}: \".format(i+1)))\n",
    "    li.append(z)\n",
    "for i in range(n-1,-1,-1):\n",
    "    print(li[i])"
   ]
  },
  {
   "cell_type": "code",
   "execution_count": 12,
   "metadata": {},
   "outputs": [
    {
     "name": "stdout",
     "output_type": "stream",
     "text": [
      "Enter the length of list:5\n",
      "Enter the element 1: 2\n",
      "Enter the element 2: 3\n",
      "Enter the element 3: 5\n",
      "Enter the element 4: 6\n",
      "Enter the element 5: 9\n",
      "Sum of all elements in list is: 25\n"
     ]
    }
   ],
   "source": [
    "li=[]\n",
    "s=0\n",
    "n= int(input(\"Enter the length of list:\"))\n",
    "for i in range(n):\n",
    "    z=int(input(\"Enter the element {}: \".format(i+1)))\n",
    "    li.append(z)\n",
    "    s+=z\n",
    "print(\"Sum of all elements in list is: {}\".format(s))"
   ]
  },
  {
   "cell_type": "code",
   "execution_count": null,
   "metadata": {},
   "outputs": [],
   "source": [
    "6\n",
    "li=[]\n",
    "n= int(input(\"Enter the length of list:\"))\n",
    "maxi=0\n",
    "mini=0\n",
    "for i in range(n):\n",
    "    z=int(input(\"Enter the element {}: \".format(i+1)))\n",
    "    li.append(z)\n",
    "for i in range(n):\n",
    "    if li[i]> maxi:\n",
    "        maxi=li[i]\n",
    "mini=maxi\n",
    "for i in range(n):\n",
    "    if li[i]<mini:\n",
    "        mini=li[i]\n",
    "print(\"Maximum Element in list is: {}\".format(maxi))\n",
    "print(\"Minimum Element in the list is: {}\".format(mini))\n",
    "    "
   ]
  },
  {
   "cell_type": "code",
   "execution_count": 4,
   "metadata": {},
   "outputs": [
    {
     "name": "stdout",
     "output_type": "stream",
     "text": [
      "Enter the number of elements in dictionary:3\n",
      "Enter keys:fruit\n",
      "Enter it's value:apple\n",
      "Enter keys:veggie\n",
      "Enter it's value:tomato\n",
      "Enter keys:nut\n",
      "Enter it's value:walnut\n",
      "Key: fruit\tValue: apple\n",
      "Key: veggie\tValue: tomato\n",
      "Key: nut\tValue: walnut\n"
     ]
    }
   ],
   "source": [
    "dic = {}\n",
    "n=int(input(\"Enter the number of elements in dictionary:\"))\n",
    "for i in range(n):\n",
    "    k= input(\"Enter keys:\")\n",
    "    dic[k]= input(\"Enter it's value:\")\n",
    "for i in dic:\n",
    "    print(\"Key: \"+i+ \"\\tValue: \"+ dic[i])"
   ]
  },
  {
   "cell_type": "code",
   "execution_count": 3,
   "metadata": {},
   "outputs": [
    {
     "name": "stdout",
     "output_type": "stream",
     "text": [
      "Enter a string:amrita school of engineering\n",
      "Enter an alphabet:e\n",
      "Number of times the character occures in the given string is: 3\n"
     ]
    }
   ],
   "source": [
    "s = input(\"Enter a string:\")\n",
    "alpha = input(\"Enter an alphabet:\")\n",
    "res=0\n",
    "for i in range(len(s)):\n",
    "    if (s[i] == alpha):\n",
    "            res = res + 1\n",
    "print(\"Number of times the character occures in the given string is: {}\".format(res))"
   ]
  },
  {
   "cell_type": "code",
   "execution_count": 5,
   "metadata": {},
   "outputs": [
    {
     "name": "stdout",
     "output_type": "stream",
     "text": [
      "tomato\n",
      "walnut\n",
      "apple\n"
     ]
    }
   ],
   "source": [
    "s = {\"apple\", \"tomato\", \"walnut\"}\n",
    "\n",
    "for x in s:\n",
    "  print(x)"
   ]
  },
  {
   "cell_type": "code",
   "execution_count": 8,
   "metadata": {},
   "outputs": [
    {
     "name": "stdout",
     "output_type": "stream",
     "text": [
      "Guess the number between 1 to 9:1\n",
      "Wrong Guess. Guess again\n",
      "Guess the number between 1 to 9:2\n",
      "Wrong Guess. Guess again\n",
      "Guess the number between 1 to 9:3\n",
      "Wrong Guess. Guess again\n",
      "Guess the number between 1 to 9:4\n",
      "Wrong Guess. Guess again\n",
      "Guess the number between 1 to 9:5\n",
      "Wrong Guess. Guess again\n",
      "Guess the number between 1 to 9:6\n",
      "Wrong Guess. Guess again\n",
      "Guess the number between 1 to 9:7\n",
      "Wrong Guess. Guess again\n",
      "Guess the number between 1 to 9:8\n",
      "Wrong Guess. Guess again\n",
      "Guess the number between 1 to 9:9\n",
      "Well guessed!\n"
     ]
    }
   ],
   "source": [
    "import numpy as np\n",
    "ran = np.random.randint(1,10)\n",
    "while(True):\n",
    "    guess = int(input((\"Guess the number between 1 to 9:\")))\n",
    "    if ran==guess:\n",
    "        print(\"Well guessed!\")\n",
    "        break\n",
    "    else:\n",
    "        print(\"Wrong Guess. Guess again\")\n",
    "        continue"
   ]
  },
  {
   "cell_type": "code",
   "execution_count": null,
   "metadata": {},
   "outputs": [],
   "source": []
  }
 ],
 "metadata": {
  "kernelspec": {
   "display_name": "Python 3",
   "language": "python",
   "name": "python3"
  },
  "language_info": {
   "codemirror_mode": {
    "name": "ipython",
    "version": 3
   },
   "file_extension": ".py",
   "mimetype": "text/x-python",
   "name": "python",
   "nbconvert_exporter": "python",
   "pygments_lexer": "ipython3",
   "version": "3.7.4"
  }
 },
 "nbformat": 4,
 "nbformat_minor": 2
}
